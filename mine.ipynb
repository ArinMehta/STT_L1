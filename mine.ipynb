{
 "cells": [
  {
   "cell_type": "markdown",
   "id": "7073bcac",
   "metadata": {},
   "source": [
    "Importing Libraries"
   ]
  },
  {
   "cell_type": "code",
   "execution_count": 2,
   "id": "959f0113",
   "metadata": {},
   "outputs": [],
   "source": [
    "from pydriller import Repository\n",
    "import csv\n",
    "import pandas as pd"
   ]
  },
  {
   "cell_type": "markdown",
   "id": "1f0b7f4c",
   "metadata": {},
   "source": [
    "Importing Repo URL"
   ]
  },
  {
   "cell_type": "code",
   "execution_count": 3,
   "id": "7ad070e3",
   "metadata": {},
   "outputs": [],
   "source": [
    "repo_url = 'https://github.com/pythonprofilers/memory_profiler.git'\n",
    "\n",
    "repo = Repository(repo_url)"
   ]
  },
  {
   "cell_type": "markdown",
   "id": "a17669f6",
   "metadata": {},
   "source": [
    "Mining Bug fixing commits"
   ]
  },
  {
   "cell_type": "code",
   "execution_count": 11,
   "id": "13b1c1da",
   "metadata": {},
   "outputs": [
    {
     "name": "stdout",
     "output_type": "stream",
     "text": [
      "                    Hash              Message    Hashes of Parents Is a merge commit List of modified files\n",
      "0    8800fe9252802753...  Port to OSX and ...  ['76745998505624...                No  ['examples/plot_...  \n",
      "1    c953ca4a9df3a332...  FIX: display las...  ['8af133fea44642...                No  ['memory_profile...  \n",
      "2    ec9ee7032b01cf93...  Fix typos in REA...  ['992bb0a8c911e1...                No  ['README.rst', '...  \n",
      "3    4214cfc13d033c43...  FIX: README.rst ...  ['ea5d79bd10b52b...                No  ['MANIFEST', 'me...  \n",
      "4    303cab8df4b2274c...  Explicit error f...  ['7a9ec119e19086...                No  ['memory_profile...  \n",
      "..                   ...                  ...                  ...               ...                  ...  \n",
      "196  dd9ed705449638f4...  Merge pull reque...  ['4b81aee7064ba4...               Yes                   []  \n",
      "197  940aa76f5da8b7cb...  Fix deprecated s...  ['57b643a84e1b7f...                No  ['test/test_exit...  \n",
      "198  e079d3fa35188908...  Fix deprecated s...  ['57b643a84e1b7f...               Yes                   []  \n",
      "199  9b26810c956ed176...  Update README.rs...  ['e079d3fa351889...                No       ['README.rst']  \n",
      "200  3ae050f6cabfb994...  Update README.rs...  ['e079d3fa351889...               Yes                   []  \n",
      "\n",
      "[201 rows x 5 columns]\n"
     ]
    }
   ],
   "source": [
    "keywords = ['fix', 'fixes', 'fixed', 'bug', 'bugfix', 'defect', 'defects',\n",
    "            'error', 'issue', 'patch', 'repair', 'fault', 'resolved', 'resolve']\n",
    "\n",
    "def is_a_bug_fixing_commit(msg):\n",
    "    if msg is None or msg == \"\":\n",
    "        return False\n",
    "    msg = msg.lower()\n",
    "    for keyword in keywords:\n",
    "        if keyword in msg:\n",
    "            return True\n",
    "    return False\n",
    "\n",
    "with open(\"bug_fixing_commits.csv\", mode='w', newline='', encoding='utf-8') as file:\n",
    "    write = csv.writer(file)\n",
    "    write.writerow([\"Hash\", \"Message\", \"Hashes of Parents\",\n",
    "                    \"Is a merge commit\", \"List of modified files\"])\n",
    "    \n",
    "    for commit in repo.traverse_commits():\n",
    "        msg = commit.msg.lower()\n",
    "        if is_a_bug_fixing_commit(msg) == True:\n",
    "\n",
    "            parents = commit.parents\n",
    "\n",
    "            if len(commit.parents) > 1:\n",
    "                is_merge = \"Yes\"\n",
    "            else:\n",
    "                is_merge = \"No\"\n",
    "\n",
    "            modif_file = []\n",
    "            for mod in commit.modified_files:\n",
    "                if mod.new_path:\n",
    "                    modif_file.append(mod.new_path)\n",
    "\n",
    "            write.writerow([commit.hash, commit.msg.strip().replace(\"\\n\",\" \"),\n",
    "                           parents, is_merge, modif_file])\n",
    "\n",
    "pd.set_option(\"display.width\", 200) \n",
    "pd.set_option(\"display.max_colwidth\", 20)\n",
    "df = pd.read_csv(\"bug_fixing_commits.csv\")\n",
    "df = pd.DataFrame(df)\n",
    "print(df)"
   ]
  },
  {
   "cell_type": "code",
   "execution_count": null,
   "id": "8f67ab49",
   "metadata": {},
   "outputs": [],
   "source": []
  }
 ],
 "metadata": {
  "kernelspec": {
   "display_name": "pydriller_env",
   "language": "python",
   "name": "python3"
  },
  "language_info": {
   "codemirror_mode": {
    "name": "ipython",
    "version": 3
   },
   "file_extension": ".py",
   "mimetype": "text/x-python",
   "name": "python",
   "nbconvert_exporter": "python",
   "pygments_lexer": "ipython3",
   "version": "3.10.13"
  }
 },
 "nbformat": 4,
 "nbformat_minor": 5
}
